{
 "cells": [
  {
   "cell_type": "code",
   "execution_count": 18,
   "metadata": {},
   "outputs": [],
   "source": [
    "#Importing libraries\n",
    "\n",
    "import numpy as np\n",
    "import pandas as pd\n",
    "import math\n",
    "import matplotlib.pyplot as plt\n",
    "from matplotlib.ticker import AutoMinorLocator\n",
    "from matplotlib import gridspec\n",
    "from scipy.optimize import curve_fit\n",
    "from astropy import constants as const\n",
    "from uncertainties import *"
   ]
  },
  {
   "cell_type": "code",
   "execution_count": 19,
   "metadata": {},
   "outputs": [],
   "source": [
    "#Reading data\n",
    "\n",
    "tab23 = pd.read_csv('data/tab23.csv')"
   ]
  },
  {
   "cell_type": "code",
   "execution_count": 20,
   "metadata": {},
   "outputs": [
    {
     "name": "stdout",
     "output_type": "stream",
     "text": [
      "a = 0.11583826071758757\n",
      "b = 0.05509130731133761\n",
      "c = 0.004882917845201158\n",
      "d = 0.0032297427655576813\n",
      "0.8796680540548203\n"
     ]
    }
   ],
   "source": [
    "#Calculations\n",
    "\n",
    "# Nastavení funkce reprezentující elipsu\n",
    "def func(xy, a, b):\n",
    "    x, y = xy\n",
    "    return ((x / a) ** 2 + (y / b) ** 2 - 1)\n",
    "\n",
    "# Převod dat do numpy polí\n",
    "xdata = tab23['x']\n",
    "ydata = tab23['y']\n",
    "\n",
    "# Aproximace dat\n",
    "popt, pcov = curve_fit(func, (xdata, ydata), np.zeros_like(xdata))\n",
    "\n",
    "# Výpis hodnot parametrů a a b\n",
    "b, a = popt\n",
    "print(\"a =\", a / 2)\n",
    "print(\"b =\", b / 2)\n",
    "\n",
    "\n",
    "dxdata = tab23['dx']\n",
    "dydata = tab23['dy']\n",
    "\n",
    "popt, pcov = curve_fit(func, (dxdata, dydata), np.zeros_like(dxdata))\n",
    "\n",
    "d, c = popt\n",
    "print(\"c =\", c / 2)\n",
    "print(\"d =\", d / 2)\n",
    "\n",
    "teta = np.linspace(0, 2 * np.pi, num=30)\n",
    "\n",
    "e = np.sqrt(1 - ((b/2)/(a/2))**2)\n",
    "print(e)\n",
    "phi = math.radians(-62)\n",
    "\n",
    "r = (a * (1 - e**2) / (1 - e * np.cos(teta))) / 2 \n",
    "\n",
    "r_array = np.array(r)\n",
    "x_r_array = np.array(r * np.cos(teta))\n",
    "y_r_array = np.array(r * np.sin(teta))\n",
    "\n",
    "rotated_x = []\n",
    "rotated_y = []\n",
    "\n",
    "rotation_matrix = [[math.cos(phi), -math.sin(phi)], [math.sin(phi), math.cos(phi)]]\n",
    "rotated_x.append(x_r_array  * rotation_matrix[0][0] + y_r_array * rotation_matrix[0][1])\n",
    "rotated_y.append(x_r_array  * rotation_matrix[1][0] + y_r_array * rotation_matrix[1][1])\n",
    "\n",
    "np.savetxt('data-output/rotated_x.csv', rotated_x, delimiter=',')\n",
    "np.savetxt('data-output/rotated_y.csv', rotated_y, delimiter=',')"
   ]
  },
  {
   "cell_type": "code",
   "execution_count": 21,
   "metadata": {},
   "outputs": [
    {
     "data": {
      "image/png": "[encoded data removed]",
      "text/plain": [
       "<Figure size 1000x1000 with 1 Axes>"
      ]
     },
     "metadata": {},
     "output_type": "display_data"
    },
    {
     "name": "stdout",
     "output_type": "stream",
     "text": [
      "(2.21+/-0.16)e+28\n",
      "33.7+/-2.4\n",
      "(4.6+/-1.3)e+36 s2 kg / m3\n",
      "11.20601572080377\n",
      "400228.93448625127\n",
      "302624.6737010111\n",
      "1.0233926666666665e-25\n"
     ]
    }
   ],
   "source": [
    "#Plotting\n",
    "\n",
    "fig, ax = plt.subplots(figsize=(10,10))\n",
    "\n",
    "ax.grid('Positions of the stars from table 18')\n",
    "ax.set_title('')\n",
    "\n",
    "ax.title.set_fontsize(20)\n",
    "ax.set_xlabel('$x$ [pc]')\n",
    "ax.xaxis.label.set_fontsize(10)\n",
    "ax.set_ylabel('$z$ [pc]')\n",
    "ax.yaxis.label.set_fontsize(10)\n",
    "\n",
    "ax.scatter(xdata, ydata,\n",
    "           s=30, c='blue', marker=\"s\")\n",
    "ax.scatter(rotated_x, rotated_y,\n",
    "           s=10, c='red', marker=\"^\",)\n",
    "\n",
    "plt.show() \n",
    "fig.savefig('plots/tab18pos1.png', bbox_inches='tight') \n",
    "\n",
    "a_uns = ufloat(a/2 * 41, c/2 * 41)\n",
    "b_uns = ufloat(b/2 * 41, d/2 * 41)\n",
    "\n",
    "S_el_m = np.pi * a_uns * 2.56 * 10 ** (13) * b_uns * 2.56 * 10 ** (13)\n",
    "S_el_ld = np.pi * a_uns * b_uns\n",
    "\n",
    "print(S_el_m)\n",
    "print(S_el_ld)\n",
    "\n",
    "P = ufloat(15.238 * 365.25 * 24 * 60 * 60, 2.116 * 365.25 * 24 * 60 * 60)\n",
    "\n",
    "M = (4 * np.pi**2 * (a/2 * 41 * 2.56 * 10 ** (13))**3) / (const.G * P**2)\n",
    "print(M)\n",
    "\n",
    "u_1 = np.sqrt((2 * 6.6743 * 10**(-11) * 6 * 10**(24)) / (6378 * 10 **(3)))\n",
    "u_2 = np.sqrt((2 * 6.6743 * 10**(-11) * 6 * 10**(24)) / (0.5 * 10 **(-2)))\n",
    "u_3 = np.sqrt((2 * 6.6743 * 10**(-11) * 2200* 1.989 * 10**(30)) / (6378 * 10 **(3)))\n",
    "\n",
    "print(u_1 * 10**(-3))\n",
    "print(u_2 * 10**(-3))\n",
    "print(u_3 * 10**(-3))\n",
    "\n",
    "print((2*6.6743 * 10**(-11)*69) / (3*10**8)**2)"
   ]
  }
 ],
 "metadata": {
  "kernelspec": {
   "display_name": "Python 3",
   "language": "python",
   "name": "python3"
  },
  "language_info": {
   "codemirror_mode": {
    "name": "ipython",
    "version": 3
   },
   "file_extension": ".py",
   "mimetype": "text/x-python",
   "name": "python",
   "nbconvert_exporter": "python",
   "pygments_lexer": "ipython3",
   "version": "3.11.6"
  }
 },
 "nbformat": 4,
 "nbformat_minor": 2
}
